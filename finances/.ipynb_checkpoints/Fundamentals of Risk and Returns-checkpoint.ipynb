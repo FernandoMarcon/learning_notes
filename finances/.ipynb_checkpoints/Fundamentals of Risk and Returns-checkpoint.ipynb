{
 "cells": [
  {
   "cell_type": "markdown",
   "metadata": {},
   "source": [
    "# Fundamentals of Risk and Returns"
   ]
  },
  {
   "cell_type": "markdown",
   "metadata": {},
   "source": [
    "## Fundamentals of Returns"
   ]
  },
  {
   "cell_type": "markdown",
   "metadata": {},
   "source": [
    "__Price Return__\n",
    "\n",
    "$R_{t,t+1} = \\frac{P_{t+1} - Pt}{P_t}$"
   ]
  },
  {
   "cell_type": "markdown",
   "metadata": {},
   "source": [
    "_Example_: if you buy a stock at 10 dollars and sell it at 12 dollars  \n",
    "$\\frac{12 - 10}{10} = \\frac{2}{10} = 0.2 = 20\\%$"
   ]
  },
  {
   "cell_type": "markdown",
   "metadata": {},
   "source": [
    "__Dividends__  \n",
    "\n",
    "- A dividend is the distribution of some of a company's earnings to a class of its shareholders, as determined by the company's board of directors.\n",
    "- Dividends are payments made by publicly-listed companies as a reward to investors for putting their money into the venture.\n",
    "- Announcements of dividend payouts are generally accompanied by a proportional increase or decrease in a company's stock price."
   ]
  },
  {
   "cell_type": "markdown",
   "metadata": {},
   "source": [
    "__Total Return__  \n",
    "\n",
    "$R_{t,t+1} = \\frac{P_{t+1} + D_{t,t+1}}{P_t} - 1 = \\frac{P_{t+1} + D_{t,t+1} - P_t}{P_t}$\n",
    "\n",
    "The difference between the total return and the price return is the contribution of dividends. Most stock market index portfolios will contain stocks that generate dividends from time to time. Therefore, total returns over a period will almost always exceed the price returns.\n",
    "\n",
    "For purpose of computing return or performance analysis, always use _total return_.  "
   ]
  },
  {
   "cell_type": "markdown",
   "metadata": {},
   "source": [
    "__Multi Period Returns__\n",
    "\n",
    "$R_{t,t+2} = (1 + R_{t,t+1})(1 + R_{t+1,t+2}) - 1$\n",
    "\n",
    "_Ex:_ You buy a stock that returns 10\\% on the first day, then returns -3 percent on the second day"
   ]
  },
  {
   "cell_type": "code",
   "execution_count": null,
   "metadata": {},
   "outputs": [],
   "source": []
  }
 ],
 "metadata": {
  "kernelspec": {
   "display_name": "Python 3",
   "language": "python",
   "name": "python3"
  },
  "language_info": {
   "codemirror_mode": {
    "name": "ipython",
    "version": 3
   },
   "file_extension": ".py",
   "mimetype": "text/x-python",
   "name": "python",
   "nbconvert_exporter": "python",
   "pygments_lexer": "ipython3",
   "version": "3.8.5"
  }
 },
 "nbformat": 4,
 "nbformat_minor": 4
}
