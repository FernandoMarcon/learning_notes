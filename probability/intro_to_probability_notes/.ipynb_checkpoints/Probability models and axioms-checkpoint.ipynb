{
 "cells": [
  {
   "cell_type": "markdown",
   "metadata": {},
   "source": [
    "## Introduction to Probability\n",
    " \n",
    "> Source:\n",
    "> \n",
    "> MIT RES.6-012, Spring 2018 \n",
    ">  \n",
    "> View the complete course: https://ocw.mit.edu/RES-6-012S18​ \n",
    "> \n",
    "> Instructor: John Tsitsiklis"
   ]
  },
  {
   "cell_type": "markdown",
   "metadata": {},
   "source": [
    "# Probability models and axioms"
   ]
  },
  {
   "cell_type": "markdown",
   "metadata": {},
   "source": [
    "> A probabilistic model is a quantitative description of a situation, a phenomenon, or an experiment whoes outcome is uncertain."
   ]
  },
  {
   "cell_type": "markdown",
   "metadata": {},
   "source": [
    "Putting together such a model requires two key steps:\n",
    "1) Describe the possible outcomes &rarr; **sample space**"
   ]
  },
  {
   "cell_type": "markdown",
   "metadata": {},
   "source": [
    "2) Specify a probability law which assigns probability to outcomes (or collection of outcomes)"
   ]
  },
  {
   "cell_type": "markdown",
   "metadata": {},
   "source": [
    "## Sample space\n",
    "- List (set) of possible outcomes, $\\Omega$\n",
    " \n",
    " List must be:\n",
    "    - Mutually exclusive\n",
    "    - Collectively exhaustive\n",
    "    - At the \"right\" granularity\n"
   ]
  },
  {
   "cell_type": "markdown",
   "metadata": {},
   "source": [
    "## Probability Axioms"
   ]
  },
  {
   "cell_type": "markdown",
   "metadata": {},
   "source": []
  },
  {
   "cell_type": "markdown",
   "metadata": {},
   "source": []
  },
  {
   "cell_type": "markdown",
   "metadata": {},
   "source": []
  }
 ],
 "metadata": {
  "kernelspec": {
   "display_name": "Python 3",
   "language": "python",
   "name": "python3"
  },
  "language_info": {
   "codemirror_mode": {
    "name": "ipython",
    "version": 3
   },
   "file_extension": ".py",
   "mimetype": "text/x-python",
   "name": "python",
   "nbconvert_exporter": "python",
   "pygments_lexer": "ipython3",
   "version": "3.8.5"
  }
 },
 "nbformat": 4,
 "nbformat_minor": 4
}
